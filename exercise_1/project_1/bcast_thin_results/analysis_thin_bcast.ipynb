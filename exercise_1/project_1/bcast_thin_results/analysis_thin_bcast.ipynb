{
 "cells": [
  {
   "cell_type": "markdown",
   "metadata": {},
   "source": [
    "# Thin Partition"
   ]
  },
  {
   "cell_type": "markdown",
   "metadata": {},
   "source": [
    "## Broadcast Operation\n",
    "\n",
    "Inside the `thin_bcast_results.csv` there are the results of the broadcast operation applied to the `THIN` partition.\n",
    "\n",
    "We have 4 columns:\n",
    "* Algorithm: the algorithm used to perform the broadcast operation (pipeline, chain, basic_linear);\n",
    "* Processes: the nummber of processes (from 2 to 48, since in partition we have setted ) used to perform for each size of the messages (from 2 byte to 1038576 byte, that corresponds to 1MB);\n",
    "* Size: the size of the message in Bytes;\n",
    "* Latency: the latency of the broadcast operation in microseconds.\n",
    "\n",
    "So, for every algorithms, for each process, we have the latency of the broadcast operation for each size of the message. \n",
    "\n",
    "## Objective\n",
    "\n",
    "The objective is to analyse the collected data and compare the baseline algorithm (basic_linear) with the other two algorithms (chain and pipeline), trying also to understand/infer the performance model behind the algorithms, taking into account the architecture on which they are being executed. "
   ]
  },
  {
   "cell_type": "markdown",
   "metadata": {},
   "source": [
    "## Starting point \n",
    "\n",
    "First of all, since was made an unique sbatch script, we need to separate the data of the different algorithms."
   ]
  },
  {
   "cell_type": "code",
   "execution_count": 1,
   "metadata": {},
   "outputs": [],
   "source": [
    "# load libraries\n",
    "import numpy as np\n",
    "import pandas as pd\n",
    "import matplotlib.pyplot as plt\n",
    "import seaborn as sns"
   ]
  },
  {
   "cell_type": "code",
   "execution_count": 4,
   "metadata": {},
   "outputs": [],
   "source": [
    "# import data from csv\n",
    "df = pd.read_csv('thin_bcast_results.csv')\n",
    "\n",
    "# separate the data into 3 new csv files, one for each algorithm (basic_linear, chain, pipeline)\n",
    "df_basic_linear = df[df['Algorithm'] == 'basic_linear']\n",
    "df_chain = df[df['Algorithm'] == 'chain']\n",
    "df_pipeline = df[df['Algorithm'] == 'pipeline']\n",
    "\n",
    "# create new csv files for each algorithm\n",
    "df_basic_linear.to_csv('thin_bcast_basic_linear.csv', index=False)\n",
    "df_chain.to_csv('thin_bcast_chain.csv', index=False)\n",
    "df_pipeline.to_csv('thin_bcast_pipeline.csv', index=False)\n"
   ]
  },
  {
   "cell_type": "markdown",
   "metadata": {},
   "source": []
  },
  {
   "cell_type": "code",
   "execution_count": null,
   "metadata": {},
   "outputs": [],
   "source": []
  }
 ],
 "metadata": {
  "kernelspec": {
   "display_name": "Python 3",
   "language": "python",
   "name": "python3"
  },
  "language_info": {
   "codemirror_mode": {
    "name": "ipython",
    "version": 3
   },
   "file_extension": ".py",
   "mimetype": "text/x-python",
   "name": "python",
   "nbconvert_exporter": "python",
   "pygments_lexer": "ipython3",
   "version": "3.12.0"
  }
 },
 "nbformat": 4,
 "nbformat_minor": 2
}

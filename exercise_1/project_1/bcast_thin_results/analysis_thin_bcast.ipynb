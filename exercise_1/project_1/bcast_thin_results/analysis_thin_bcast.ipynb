{
 "cells": [
  {
   "cell_type": "markdown",
   "metadata": {},
   "source": [
    "# Thin Partition"
   ]
  },
  {
   "cell_type": "markdown",
   "metadata": {},
   "source": [
    "## Broadcast Operation\n",
    "\n",
    "Inside the `thin_bcast_results.csv` there are the results of the broadcast operation applied to the `THIN` partition.\n",
    "\n",
    "We have 4 columns:\n",
    "* Algorithm: the algorithm used to perform the broadcast operation (pipeline, chain, basic_linear);\n",
    "* Processes: the nummber of processes (from 2 to 32, since in partition we have setted ) used to perform for each size of the messages (from 2 byte to 1038576 byte, that corresponds to 1MB);\n",
    "* Size: the size of the message in Bytes;\n",
    "* Latency: the latency of the broadcast operation in microseconds.\n",
    "\n",
    "So, for every algorithms, for each process, we have the latency of the broadcast operation for each size of the message. \n",
    "\n",
    "## Objective\n",
    "\n",
    "The objective is to analyse the collected data and compare the baseline algorithm (basic_linear) with the other two algorithms (chain and pipeline), trying also to understand/infer the performance model behind the algorithms, taking into account the architecture on which they are being executed. "
   ]
  },
  {
   "cell_type": "code",
   "execution_count": null,
   "metadata": {},
   "outputs": [],
   "source": []
  }
 ],
 "metadata": {
  "language_info": {
   "name": "python"
  }
 },
 "nbformat": 4,
 "nbformat_minor": 2
}
